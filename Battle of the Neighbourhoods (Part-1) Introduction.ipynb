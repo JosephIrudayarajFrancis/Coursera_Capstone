{
 "cells": [
  {
   "cell_type": "markdown",
   "metadata": {},
   "source": [
    "### Introduction [(i.e)Business Problem]\n",
    "\n",
    "                                               Starting a business is an intricate process of putting in monetary resources and materials to get a source of income. It can be any type of business, ranging from small retail outlets to shopping malls. Many factors influence the success or failure of the business. But one of the major factor is location of the business center. Since people want to spend minimum time and energy to get maximum products, location of the business plays a vital role in establishing a business (like a housing community can be a good place to open a groceries outlet).\n",
    "                                               \n",
    "                                               So, the purpose of this analysis is to analyze the preferable locations for the business in Toronto to chose the apt location by providing data about the income and population of each neighborhood as well as the existing competitions present in the same regions.\n",
    "                                               \n",
    "                                               The target population will be the aspiring entrepreneurs looking for a place to establish a successful business. \n",
    "                                               "
   ]
  },
  {
   "cell_type": "code",
   "execution_count": null,
   "metadata": {},
   "outputs": [],
   "source": []
  }
 ],
 "metadata": {
  "kernelspec": {
   "display_name": "Python 3",
   "language": "python",
   "name": "python3"
  },
  "language_info": {
   "codemirror_mode": {
    "name": "ipython",
    "version": 3
   },
   "file_extension": ".py",
   "mimetype": "text/x-python",
   "name": "python",
   "nbconvert_exporter": "python",
   "pygments_lexer": "ipython3",
   "version": "3.7.6"
  }
 },
 "nbformat": 4,
 "nbformat_minor": 4
}
